{
  "nbformat": 4,
  "nbformat_minor": 0,
  "metadata": {
    "colab": {
      "name": "Copy of count_words.ipynb",
      "provenance": [],
      "toc_visible": true,
      "authorship_tag": "ABX9TyMepL3bpquhH9n7A4KWVu2y",
      "include_colab_link": true
    },
    "kernelspec": {
      "name": "python3",
      "display_name": "Python 3"
    }
  },
  "cells": [
    {
      "cell_type": "markdown",
      "metadata": {
        "id": "view-in-github",
        "colab_type": "text"
      },
      "source": [
        "<a href=\"https://colab.research.google.com/github/jessicaannmorse/ISOM730/blob/master/Copy_of_count_words.ipynb\" target=\"_parent\"><img src=\"https://colab.research.google.com/assets/colab-badge.svg\" alt=\"Open In Colab\"/></a>"
      ]
    },
    {
      "cell_type": "code",
      "metadata": {
        "id": "ivp2KpCjeo2X",
        "colab_type": "code",
        "outputId": "bcde1c40-b833-4c3b-ff00-60bae3cdf5ad",
        "colab": {
          "base_uri": "https://localhost:8080/",
          "height": 136
        }
      },
      "source": [
        "fhand = open('romeo.txt')\n",
        "for line in fhand:\n",
        "  print (line)"
      ],
      "execution_count": 0,
      "outputs": [
        {
          "output_type": "stream",
          "text": [
            " 1 But soft what light through yonder window breaks\n",
            "\n",
            " 2 It is the east and Juliet is the sun\n",
            "\n",
            " 3 Arise fair sun and kill the envious moon\n",
            "\n",
            " 4 Who is already sick and pale with grief\n"
          ],
          "name": "stdout"
        }
      ]
    },
    {
      "cell_type": "markdown",
      "metadata": {
        "id": "_x-tEgwRhhE0",
        "colab_type": "text"
      },
      "source": [
        "# New Section"
      ]
    },
    {
      "cell_type": "markdown",
      "metadata": {
        "id": "U6MofSkIhhmr",
        "colab_type": "text"
      },
      "source": [
        "# New Section"
      ]
    }
  ]
}