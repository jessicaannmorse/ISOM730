{
  "nbformat": 4,
  "nbformat_minor": 0,
  "metadata": {
    "colab": {
      "name": "count_words.ipynb",
      "provenance": [],
      "collapsed_sections": [],
      "toc_visible": true,
      "authorship_tag": "ABX9TyNcu9uCTkGRi3juU/EUrWEN",
      "include_colab_link": true
    },
    "kernelspec": {
      "name": "python3",
      "display_name": "Python 3"
    }
  },
  "cells": [
    {
      "cell_type": "markdown",
      "metadata": {
        "id": "view-in-github",
        "colab_type": "text"
      },
      "source": [
        "<a href=\"https://colab.research.google.com/github/jessicaannmorse/ISOM730/blob/master/count_words.ipynb\" target=\"_parent\"><img src=\"https://colab.research.google.com/assets/colab-badge.svg\" alt=\"Open In Colab\"/></a>"
      ]
    },
    {
      "cell_type": "code",
      "metadata": {
        "id": "ivp2KpCjeo2X",
        "colab_type": "code",
        "outputId": "f5e95fdc-f5b7-4c0f-9446-ff225af77e95",
        "colab": {
          "base_uri": "https://localhost:8080/",
          "height": 105
        }
      },
      "source": [
        "fhand = open('romeo.txt')\n",
        "counts = {}\n",
        "for line in fhand:\n",
        "  words = line.split()\n",
        "  for word in words:\n",
        "    counts[word] = counts.get(word,0)\n",
        "  print (counts)"
      ],
      "execution_count": 15,
      "outputs": [
        {
          "output_type": "stream",
          "text": [
            "{'1': 0, 'But': 0, 'soft': 0, 'what': 0, 'light': 0, 'through': 0, 'yonder': 0, 'window': 0, 'breaks': 0}\n",
            "{'1': 0, 'But': 0, 'soft': 0, 'what': 0, 'light': 0, 'through': 0, 'yonder': 0, 'window': 0, 'breaks': 0, '2': 0, 'It': 0, 'is': 0, 'the': 0, 'east': 0, 'and': 0, 'Juliet': 0, 'sun': 0}\n",
            "{'1': 0, 'But': 0, 'soft': 0, 'what': 0, 'light': 0, 'through': 0, 'yonder': 0, 'window': 0, 'breaks': 0, '2': 0, 'It': 0, 'is': 0, 'the': 0, 'east': 0, 'and': 0, 'Juliet': 0, 'sun': 0, '3': 0, 'Arise': 0, 'fair': 0, 'kill': 0, 'envious': 0, 'moon': 0}\n",
            "{'1': 0, 'But': 0, 'soft': 0, 'what': 0, 'light': 0, 'through': 0, 'yonder': 0, 'window': 0, 'breaks': 0, '2': 0, 'It': 0, 'is': 0, 'the': 0, 'east': 0, 'and': 0, 'Juliet': 0, 'sun': 0, '3': 0, 'Arise': 0, 'fair': 0, 'kill': 0, 'envious': 0, 'moon': 0, '4': 0, 'Who': 0, 'already': 0, 'sick': 0, 'pale': 0, 'with': 0, 'grief': 0}\n"
          ],
          "name": "stdout"
        }
      ]
    },
    {
      "cell_type": "code",
      "metadata": {
        "id": "JhHjQG_WmWO7",
        "colab_type": "code",
        "colab": {
          "base_uri": "https://localhost:8080/",
          "height": 54
        },
        "outputId": "1474c06e-aa95-43e7-85db-88ba6ac19ea9"
      },
      "source": [
        "fhand = open('romeo.txt')\n",
        "counts = {}\n",
        "for line in fhand:\n",
        "  words = line.split()\n",
        "  for word in words:\n",
        "    counts[word] = counts.get(word,0)+1\n",
        "\n",
        "#print (counts)\n",
        "\n",
        "lst = []\n",
        "\n",
        "for k, v in counts.items():\n",
        "  lst.append((v,k))\n",
        "print(sorted(lst,reverse=True))"
      ],
      "execution_count": 29,
      "outputs": [
        {
          "output_type": "stream",
          "text": [
            "[(3, 'the'), (3, 'is'), (3, 'and'), (2, 'sun'), (1, 'yonder'), (1, 'with'), (1, 'window'), (1, 'what'), (1, 'through'), (1, 'soft'), (1, 'sick'), (1, 'pale'), (1, 'moon'), (1, 'light'), (1, 'kill'), (1, 'grief'), (1, 'fair'), (1, 'envious'), (1, 'east'), (1, 'breaks'), (1, 'already'), (1, 'Who'), (1, 'Juliet'), (1, 'It'), (1, 'But'), (1, 'Arise'), (1, '4'), (1, '3'), (1, '2'), (1, '1')]\n"
          ],
          "name": "stdout"
        }
      ]
    },
    {
      "cell_type": "code",
      "metadata": {
        "id": "-0_6l1pBlUoK",
        "colab_type": "code",
        "colab": {}
      },
      "source": [
        "hand = open('romeo.txt')\n",
        "for line in fhand:\n",
        "  print (line)"
      ],
      "execution_count": 0,
      "outputs": []
    },
    {
      "cell_type": "code",
      "metadata": {
        "id": "5yjf2OAZnaTy",
        "colab_type": "code",
        "colab": {}
      },
      "source": [
        ""
      ],
      "execution_count": 0,
      "outputs": []
    },
    {
      "cell_type": "code",
      "metadata": {
        "id": "Itsr7jgWmSdT",
        "colab_type": "code",
        "colab": {
          "base_uri": "https://localhost:8080/",
          "height": 136
        },
        "outputId": "015d66c0-58c5-4d9a-9dc3-61d234ca0fcb"
      },
      "source": [
        "fhand = open('romeo.txt')\n",
        "counts = {}\n",
        "for line in fhand:\n",
        "  words = line.split()\n",
        "  for word in words:\n",
        "    counts[word] = counts.get(word,0)\n",
        "  print (line)"
      ],
      "execution_count": 16,
      "outputs": [
        {
          "output_type": "stream",
          "text": [
            " 1 But soft what light through yonder window breaks\n",
            "\n",
            " 2 It is the east and Juliet is the sun\n",
            "\n",
            " 3 Arise fair sun and kill the envious moon\n",
            "\n",
            " 4 Who is already sick and pale with grief\n"
          ],
          "name": "stdout"
        }
      ]
    },
    {
      "cell_type": "markdown",
      "metadata": {
        "id": "_x-tEgwRhhE0",
        "colab_type": "text"
      },
      "source": [
        "hand = open('romeo.txt')\n",
        "for line in fhand:\n",
        "  print (line)"
      ]
    },
    {
      "cell_type": "markdown",
      "metadata": {
        "id": "U6MofSkIhhmr",
        "colab_type": "text"
      },
      "source": [
        "# New Section"
      ]
    }
  ]
}