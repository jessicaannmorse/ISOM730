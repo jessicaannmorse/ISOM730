{
  "nbformat": 4,
  "nbformat_minor": 0,
  "metadata": {
    "colab": {
      "name": "Untitled0.ipynb",
      "provenance": [],
      "collapsed_sections": [],
      "authorship_tag": "ABX9TyMujJ6x0/8pEXsNlU4jRnB6",
      "include_colab_link": true
    },
    "kernelspec": {
      "name": "python3",
      "display_name": "Python 3"
    }
  },
  "cells": [
    {
      "cell_type": "markdown",
      "metadata": {
        "id": "view-in-github",
        "colab_type": "text"
      },
      "source": [
        "<a href=\"https://colab.research.google.com/github/jessicaannmorse/ISOM730/blob/master/Untitled0.ipynb\" target=\"_parent\"><img src=\"https://colab.research.google.com/assets/colab-badge.svg\" alt=\"Open In Colab\"/></a>"
      ]
    },
    {
      "cell_type": "code",
      "metadata": {
        "id": "Dl2506tdSt8P",
        "colab_type": "code",
        "colab": {
          "base_uri": "https://localhost:8080/",
          "height": 34
        },
        "outputId": "2ea56353-4253-42e7-88b6-5283699e166a"
      },
      "source": [
        "counts = dict()\n",
        "names = ['a', 'b', 'a']\n",
        "\n",
        "for name in names:\n",
        "  counts[name] = counts.get(name,0)+1\n",
        "\n",
        "print(counts)"
      ],
      "execution_count": 3,
      "outputs": [
        {
          "output_type": "stream",
          "text": [
            "{'a': 2, 'b': 1}\n"
          ],
          "name": "stdout"
        }
      ]
    },
    {
      "cell_type": "markdown",
      "metadata": {
        "id": "OzQNWR07YvNc",
        "colab_type": "text"
      },
      "source": [
        ""
      ]
    },
    {
      "cell_type": "code",
      "metadata": {
        "id": "7yDDD9hvY473",
        "colab_type": "code",
        "colab": {
          "base_uri": "https://localhost:8080/",
          "height": 68
        },
        "outputId": "bfb3ea0b-fdda-4371-f2d2-3927034c4059"
      },
      "source": [
        "jjj = { 'chuck' : 1 , 'fred' : 42, 'jan': 100}\n",
        "for aaa,bbb in jjj.items() :\n",
        "    print(aaa, bbb)"
      ],
      "execution_count": 4,
      "outputs": [
        {
          "output_type": "stream",
          "text": [
            "chuck 1\n",
            "fred 42\n",
            "jan 100\n"
          ],
          "name": "stdout"
        }
      ]
    }
  ]
}